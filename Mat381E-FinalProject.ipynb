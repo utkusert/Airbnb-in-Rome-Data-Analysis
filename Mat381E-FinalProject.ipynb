{
 "cells": [
  {
   "cell_type": "markdown",
   "id": "7fbfbfa7",
   "metadata": {},
   "source": [
    "# The right way to rent a house on Airbnb\n",
    "\n",
    "1. Utku Sert 090210729<br>\n",
    "2. Ali Emre Eser 09019321<br>\n",
    "3. Özden Köse 090200762 <br>\n",
    "\n",
    "# Dataset<br>\n",
    "\n",
    "Airbnb data : [Dataset](https://www.kaggle.com/datasets/alessiocrisafulli/airbnb-italy?resource=download). Airbnb is an application that helps customers who want to stay outside their own home to stay elsewhere for a fee.This dataset we got from Kaggle includes information about accommodation areas in some cities in Italy. Our dataset is information about the accommodation (location, number of bathrooms, number of toilets, number of rooms, daily fee), feedback of the user about the house (cleanliness score, accuracy score of the house, score of the location of the house, check-in score of the house) and contains information about the host (how many years he has been renting his house, response time to messages, having a verified account, host response rate).\n",
    "\n",
    "# Description of the Problem\n",
    "\n",
    "By using this dataset, we will analyze how airbnb newcomers can more easily rent their homes in an effective and convenient way.<br>\n",
    "What matters more to people who rent houses?<br>\n",
    "Is it more important that the house has an escape room or how many beds it has?<br>\n",
    "Which features are preferred more?<br>\n",
    "What effect does the location of the house have on the holding of the house?<br>\n",
    "In which location are the houses rented the most?<br>\n",
    "What is the effect of the pricing policy on the rental of the house?<br>\n",
    "To what extent do people take into househoulder response time to messages?<br>\n",
    "With the answers we obtained by asking these questions to our dataset, we aim to identify what is more important for customers and share these findings with the households, and offer them the opportunity to rent their homes more easily.\n",
    "\n",
    "# Project Planning\n",
    "## Project Pieces\n",
    "\n",
    "Since our dataset includes data that we are not interested in, such as user comments, we will first start by extracting the data that will be useful to us. Afterwards, we will search for answers to these questions by using our relevant data according to the questions we have determined.While searching for answers to these questions, we will determine the most appropriate ML algorithm and continue on it.Finally, our target is to share these answers with the households, giving them the opportunity to rent a house more easily, while at the same time aiming to offer a more comfortable accommodation to the customers."
   ]
  },
  {
   "cell_type": "code",
   "execution_count": null,
   "id": "47b4b846",
   "metadata": {},
   "outputs": [],
   "source": []
  }
 ],
 "metadata": {
  "kernelspec": {
   "display_name": "Python 3 (ipykernel)",
   "language": "python",
   "name": "python3"
  },
  "language_info": {
   "codemirror_mode": {
    "name": "ipython",
    "version": 3
   },
   "file_extension": ".py",
   "mimetype": "text/x-python",
   "name": "python",
   "nbconvert_exporter": "python",
   "pygments_lexer": "ipython3",
   "version": "3.10.7"
  }
 },
 "nbformat": 4,
 "nbformat_minor": 5
}
